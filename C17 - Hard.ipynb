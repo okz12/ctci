{
 "cells": [
  {
   "cell_type": "code",
   "execution_count": 2,
   "metadata": {},
   "outputs": [],
   "source": [
    "#17.1 Add without operator\n",
    "def _add(a, b):\n",
    "    while(b > 0):\n",
    "        carry = (a & b) << 1\n",
    "        a = a ^ b\n",
    "        b = carry\n",
    "    return a\n",
    "\n",
    "assert(_add(31, 43) == 31 + 43)"
   ]
  },
  {
   "cell_type": "code",
   "execution_count": 13,
   "metadata": {},
   "outputs": [],
   "source": [
    "#17.2 Shuffle 52 card deck with equal probability of 52! permutations\n",
    "import random\n",
    "random.seed(123)\n",
    "cards = list(range(1,53))\n",
    "\n",
    "def _shuffle(cards):\n",
    "    for i in range(len(cards)):\n",
    "        swap_idx = random.randint(i, 51)\n",
    "        cards[i], cards[swap_idx] = cards[swap_idx], cards[i]\n",
    "    return cards\n",
    "\n",
    "assert(len(set(_shuffle(cards))) == 52)"
   ]
  },
  {
   "cell_type": "code",
   "execution_count": 36,
   "metadata": {},
   "outputs": [
    {
     "data": {
      "text/plain": [
       "22"
      ]
     },
     "execution_count": 36,
     "metadata": {},
     "output_type": "execute_result"
    }
   ],
   "source": [
    "#17.5 Letters and Numbers -- find maximum subarray with the same number of letters and numbers\n",
    "\n",
    "from collections import defaultdict\n",
    "def cumsum(lst):\n",
    "    acu = 0\n",
    "    for num in lst:\n",
    "        yield num + acu\n",
    "        acu += num\n",
    "        \n",
    "def max_equal_subarray(string):\n",
    "    string_bin = list(map(lambda x: 1 if x.isdigit() else -1, list(string))) # replace numbers with +1, letters with -1\n",
    "    # >>> [-1, 1, -1, -1, -1, -1, 1, 1, 1, 1, 1, -1, 1, -1, 1, -1, -1, 1, 1, -1, -1, -1, 1, 1]\n",
    "    \n",
    "    string_cumsum = [x for x in cumsum(string_bin)]\n",
    "    index_map = defaultdict(lambda: (float('inf'), float('-inf')))\n",
    "\n",
    "    for idx, x in enumerate(string_cumsum): # map min/max index with same value\n",
    "        index_map[x] = (min(index_map[x][0], idx), max(index_map[x][1], idx))\n",
    "\n",
    "    max_subarray = 0\n",
    "    for _, min_max in index_map.items():\n",
    "        max_subarray = max(max_subarray, min_max[1] - min_max[0])\n",
    "    return max_subarray\n",
    "\n",
    "max_equal_subarray('a1jsaj72917b8b3bd72bdu37')"
   ]
  }
 ],
 "metadata": {
  "kernelspec": {
   "display_name": "Python 3",
   "language": "python",
   "name": "python3"
  },
  "language_info": {
   "codemirror_mode": {
    "name": "ipython",
    "version": 3
   },
   "file_extension": ".py",
   "mimetype": "text/x-python",
   "name": "python",
   "nbconvert_exporter": "python",
   "pygments_lexer": "ipython3",
   "version": "3.7.1"
  },
  "varInspector": {
   "cols": {
    "lenName": 16,
    "lenType": 16,
    "lenVar": 40
   },
   "kernels_config": {
    "python": {
     "delete_cmd_postfix": "",
     "delete_cmd_prefix": "del ",
     "library": "var_list.py",
     "varRefreshCmd": "print(var_dic_list())"
    },
    "r": {
     "delete_cmd_postfix": ") ",
     "delete_cmd_prefix": "rm(",
     "library": "var_list.r",
     "varRefreshCmd": "cat(var_dic_list()) "
    }
   },
   "types_to_exclude": [
    "module",
    "function",
    "builtin_function_or_method",
    "instance",
    "_Feature"
   ],
   "window_display": true
  }
 },
 "nbformat": 4,
 "nbformat_minor": 2
}
