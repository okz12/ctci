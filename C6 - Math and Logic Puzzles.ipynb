{
 "cells": [
  {
   "cell_type": "markdown",
   "metadata": {},
   "source": [
    "# Notes\n",
    "\n",
    "### Prime Numbers\n",
    "\n",
    "* Every positive integer can be decomposed into a product of primes\n",
    "* For integers $x$ and $y$\n",
    "\n",
    "    $x = 2^{j0} \\times 3^{j1} \\times 5^{j2} \\times 7^{j3} ...$\n",
    "    \n",
    "    $y = 2^{k0} \\times 3^{k1} \\times 5^{k2} \\times 7^{k3} ...$\n",
    "    \n",
    "    If $x$ is divisible by $y$, then for all $i$, $j_i \\geq k_i$\n",
    "    \n",
    "* Greatest common denominator = $2^{\\min(j0, k0)} \\times 3^{\\min(j1, k1)} \\times 5^{\\min(j2, k2)}...$\n",
    "* Least common multiple = $2^{\\max(j0, k0)} \\times 3^{\\max(j1, k1)} \\times 5^{\\max(j2, k2)}...$\n",
    "* GCD x LCM = $xy$\n",
    "\n",
    "### Probability\n",
    "\n",
    "* P(A and B) -- Bayes' Rule: P(A,B) = P(B|A)P(A) = P(A|B)P(A)\n",
    "* P(A or B) = P(A) + P(B) - P(A and B)\n",
    "* Independence: P(B|A) -> P(A) , P(A|B) -> P(B) -- P(A,B) = P(A)P(B)\n",
    "* Mutually Exclusive: P(A and B) -> 0 -- P(A or B) = P(A) + P(B)\n"
   ]
  },
  {
   "cell_type": "markdown",
   "metadata": {},
   "source": [
    "### Sieve of Eratosthenes"
   ]
  },
  {
   "cell_type": "code",
   "execution_count": 23,
   "metadata": {},
   "outputs": [],
   "source": [
    "from math import sqrt\n",
    "def sieve_of_erathosthenes(limit):\n",
    "    array = [True for _ in range(limit)]\n",
    "    idx=4\n",
    "    while(idx<limit):\n",
    "        array[idx] = False\n",
    "        idx += 2\n",
    "        \n",
    "    for x in range(3, int(sqrt(limit))):\n",
    "        if array[x]:\n",
    "            jump = x*2\n",
    "            idx = x + jump\n",
    "            while(idx < limit):\n",
    "                array[idx] = False\n",
    "                idx += jump\n",
    "                \n",
    "    return [x for x in range(limit) if array[x]][2:]\n",
    "\n",
    "assert(sieve_of_erathosthenes(100) == [2,3,5,7,11,13,17,19,23,29,31,37,41,43,47,53,59,61,67,71,73,79,83,89,97])"
   ]
  },
  {
   "cell_type": "markdown",
   "metadata": {},
   "source": [
    "### Q7 Apocalypse Simulation"
   ]
  },
  {
   "cell_type": "code",
   "execution_count": 47,
   "metadata": {},
   "outputs": [
    {
     "name": "stdout",
     "output_type": "stream",
     "text": [
      "99852 100000\n"
     ]
    }
   ],
   "source": [
    "import random\n",
    "random.seed(0)\n",
    "#0 -> Girl, 1-> Boy\n",
    "num_trials = 100000\n",
    "girl_count = boy_count = 0\n",
    "while(num_trials != 0):\n",
    "    x = random.randint(0,1)\n",
    "    if (x==0):\n",
    "        num_trials -=1\n",
    "        girl_count += 1\n",
    "    else:\n",
    "        boy_count += 1\n",
    "    \n",
    "print(boy_count, girl_count)"
   ]
  }
 ],
 "metadata": {
  "kernelspec": {
   "display_name": "Python 3",
   "language": "python",
   "name": "python3"
  },
  "language_info": {
   "codemirror_mode": {
    "name": "ipython",
    "version": 3
   },
   "file_extension": ".py",
   "mimetype": "text/x-python",
   "name": "python",
   "nbconvert_exporter": "python",
   "pygments_lexer": "ipython3",
   "version": "3.6.5"
  },
  "varInspector": {
   "cols": {
    "lenName": 16,
    "lenType": 16,
    "lenVar": 40
   },
   "kernels_config": {
    "python": {
     "delete_cmd_postfix": "",
     "delete_cmd_prefix": "del ",
     "library": "var_list.py",
     "varRefreshCmd": "print(var_dic_list())"
    },
    "r": {
     "delete_cmd_postfix": ") ",
     "delete_cmd_prefix": "rm(",
     "library": "var_list.r",
     "varRefreshCmd": "cat(var_dic_list()) "
    }
   },
   "types_to_exclude": [
    "module",
    "function",
    "builtin_function_or_method",
    "instance",
    "_Feature"
   ],
   "window_display": true
  }
 },
 "nbformat": 4,
 "nbformat_minor": 2
}
