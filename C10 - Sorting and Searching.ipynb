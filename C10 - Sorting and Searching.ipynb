{
 "cells": [
  {
   "cell_type": "markdown",
   "metadata": {},
   "source": [
    "## Notes\n",
    "\n",
    "### Sorting Algorithms\n",
    "\n",
    "* Bubble Sort: O($n^2$) Runtime, O(1) Memory:\n",
    "\n",
    "Start at beginning of array. Compare and swap with the next element for whole array until no more changes.\n",
    "\n",
    "Numbers | Graph\n",
    "- | --------\n",
    "![bubblesort example](img/bubblesort_num.gif) | ![bubblesort example](img/bubblesort_graph.svg) ----------------------------------------------------------------------\n",
    "\n",
    "* Selection Sort: O($n^2$) Runtime, O(1) Memory:\n",
    "\n",
    "Find smallest element in linear scan and swap with first value.\n",
    "\n",
    "Numbers | Graph\n",
    "- | -\n",
    "![selectionsort example](img/selectionsort_num.gif) | ![selectionsort example](img/selectionsort_graph.gif)\n",
    "\n",
    "* Merge Sort: O($n \\log (n)$) Runtime, Memory depends ~ O($n$):\n",
    "\n",
    "Divides arrays in half and sorts those halfs. Base case -> Sorting two numbers.\n",
    "\n",
    "Numbers | Graph\n",
    "- | -\n",
    "![mergesort example](img/mergesort_num.gif) | ![mergesort example](img/mergesort_graph.gif)\n",
    "\n",
    "* Quick Sort: O($n \\log (n)$) average, O($n^2$) worst case, Memory O($\\log (n)$)\n",
    "\n",
    "Partition the array and move all elements lower than partition below, and all elements higher above the partition.\n",
    "\n",
    "Numbers | Graph\n",
    "- | -\n",
    "![quicksort example](img/quicksort_num.gif) | ![quicksort example](img/quicksort_graph.gif)"
   ]
  }
 ],
 "metadata": {
  "kernelspec": {
   "display_name": "Python 3",
   "language": "python",
   "name": "python3"
  },
  "language_info": {
   "codemirror_mode": {
    "name": "ipython",
    "version": 3
   },
   "file_extension": ".py",
   "mimetype": "text/x-python",
   "name": "python",
   "nbconvert_exporter": "python",
   "pygments_lexer": "ipython3",
   "version": "3.6.5"
  },
  "varInspector": {
   "cols": {
    "lenName": 16,
    "lenType": 16,
    "lenVar": 40
   },
   "kernels_config": {
    "python": {
     "delete_cmd_postfix": "",
     "delete_cmd_prefix": "del ",
     "library": "var_list.py",
     "varRefreshCmd": "print(var_dic_list())"
    },
    "r": {
     "delete_cmd_postfix": ") ",
     "delete_cmd_prefix": "rm(",
     "library": "var_list.r",
     "varRefreshCmd": "cat(var_dic_list()) "
    }
   },
   "types_to_exclude": [
    "module",
    "function",
    "builtin_function_or_method",
    "instance",
    "_Feature"
   ],
   "window_display": true
  }
 },
 "nbformat": 4,
 "nbformat_minor": 2
}
