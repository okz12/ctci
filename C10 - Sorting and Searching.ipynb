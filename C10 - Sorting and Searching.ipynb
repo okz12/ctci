{
 "cells": [
  {
   "cell_type": "markdown",
   "metadata": {},
   "source": [
    "## Notes\n",
    "\n",
    "### Sorting Algorithms\n",
    "\n",
    "* Bubble Sort: O($n^2$) Runtime, O(1) Memory:\n",
    "\n",
    "Start at beginning of array. Compare and swap with the next element for whole array until no more changes.\n",
    "\n",
    "Numbers | Graph\n",
    "- | --------\n",
    "![bubblesort example](img/bubblesort_num.gif) | ![bubblesort example](img/bubblesort_graph.png)\n",
    "\n",
    "* Selection Sort: O($n^2$) Runtime, O(1) Memory:\n",
    "\n",
    "Find smallest element in linear scan and swap with first value.\n",
    "\n",
    "Numbers | Graph\n",
    "- | -\n",
    "![selectionsort example](img/selectionsort_num.gif) | ![selectionsort example](img/selectionsort_graph.gif)\n",
    "\n",
    "* Merge Sort: O($n \\log (n)$) Runtime, Memory depends ~ O($n$):\n",
    "\n",
    "Divides arrays in half and sorts those halfs. Base case -> Sorting two numbers.\n",
    "\n",
    "Numbers | Graph\n",
    "- | -\n",
    "![mergesort example](img/mergesort_num.gif) | ![mergesort example](img/mergesort_graph.gif)\n",
    "\n",
    "* Quick Sort: O($n \\log (n)$) average, O($n^2$) worst case, Memory O($\\log (n)$)\n",
    "\n",
    "Partition the array and move all elements lower than partition below, and all elements higher above the partition.\n",
    "\n",
    "Numbers | Graph\n",
    "- | -\n",
    "![quicksort example](img/quicksort_num.gif) | ![quicksort example](img/quicksort_graph.gif)\n",
    "\n",
    "* Radix Sort: O(kn) runtime\n",
    "\n",
    "### Searching\n",
    "\n",
    "* Binary Search: log(n) to find element in sorted array"
   ]
  },
  {
   "cell_type": "code",
   "execution_count": 3,
   "metadata": {},
   "outputs": [],
   "source": [
    "def bubble_sort(array):\n",
    "    array_sorted = False\n",
    "    while not array_sorted:\n",
    "        array_sorted = True\n",
    "        for idx in range(len(array)-1):\n",
    "            if array[idx]>array[idx+1]:\n",
    "                array[idx], array[idx+1] = array[idx+1], array[idx]\n",
    "                array_sorted = False\n",
    "    return array            \n",
    "    \n",
    "def selection_sort(array):\n",
    "    def find_min_idx(array, idx):\n",
    "        min_val, min_idx = array[idx], idx\n",
    "        for i in range(idx, len(array)):\n",
    "            if array[i]<min_val:\n",
    "                min_val, min_idx = array[i], i\n",
    "        return min_idx\n",
    "    \n",
    "    for i in range(len(array)):\n",
    "        swap_idx = find_min_idx(array, i)\n",
    "        array[i], array[swap_idx] = array[swap_idx], array[i]\n",
    "    return array\n",
    "\n",
    "\n",
    "def mergesort(arr):\n",
    "    if len(arr) == 1:\n",
    "        return arr\n",
    "    \n",
    "    m = len(arr)//2\n",
    "    a = mergesort(arr[:m])\n",
    "    b = mergesort(arr[m:])\n",
    "    res = []\n",
    "    i = j = 0\n",
    "    \n",
    "    while i<len(a) and j<len(b):\n",
    "        if a[i]<b[j]:\n",
    "            res.append(a[i])\n",
    "            i+=1\n",
    "        else:\n",
    "            res.append(b[j])\n",
    "            j+=1\n",
    "            \n",
    "    res+=a[i:]\n",
    "    res+=b[j:]\n",
    "    \n",
    "    return res\n",
    "    \n",
    "\n",
    "\n",
    "assert(bubble_sort([4,2,1,3,2,1]) == [1, 1, 2, 2, 3, 4])\n",
    "assert(selection_sort([4,2,1,3,2,1]) == [1, 1, 2, 2, 3, 4])\n",
    "assert(mergesort([4,2,1,3,2,1]) == [1, 1, 2, 2, 3, 4])"
   ]
  },
  {
   "cell_type": "code",
   "execution_count": 11,
   "metadata": {},
   "outputs": [],
   "source": [
    "def binary_search(array, num):\n",
    "    start = 0\n",
    "    end = len(array) - 1\n",
    "    mid = int((start+end)/2)\n",
    "    while(array[mid] != num and start != end):\n",
    "        #print(array[mid])\n",
    "        if array[mid] == mid:\n",
    "            return mid\n",
    "        if array[mid] < mid:\n",
    "            start = mid+1\n",
    "        if array[mid] > mid:\n",
    "            end = mid - 1\n",
    "            \n",
    "        mid = int((start+end)/2)\n",
    "    if array[mid] == mid:\n",
    "        return mid\n",
    "    else: return False\n",
    "\n",
    "assert(binary_search([-1, 0, 1, 2, 3, 4, 6, 8, 9, 10],6) == 6)"
   ]
  },
  {
   "cell_type": "code",
   "execution_count": 1,
   "metadata": {},
   "outputs": [
    {
     "name": "stdout",
     "output_type": "stream",
     "text": [
      "[1, 2, 3, 4, 5, 6, 7]\n",
      "[1, 2, 5, 6, 7, 3, 4]\n"
     ]
    }
   ],
   "source": [
    "graph_dict = {1:[2, 5, 6, 7], 2:[3], 3:[4], 4:[], 5:[], 6:[], 7:[], 8:[7]}\n",
    "\n",
    "def dfs(graph, vertex):\n",
    "    stk = [vertex]\n",
    "    visitedNodes = set()\n",
    "    vnList = []\n",
    "    while len(stk)>0:\n",
    "        node = stk.pop()#pop from end\n",
    "        if node not in visitedNodes:\n",
    "            vnList.append(node)\n",
    "            visitedNodes.add(node)\n",
    "            stk.extend(graph_dict[node][::-1])#reverse list to let first element be the first one popped\n",
    "    return vnList\n",
    "\n",
    "def bfs(graph, vertex):\n",
    "    queue = [vertex]\n",
    "    visitedNodes = set()\n",
    "    vnList = []\n",
    "    while len(queue)>0:\n",
    "        node = queue.pop(0)#pop from beginning\n",
    "        if node not in visitedNodes:\n",
    "            vnList.append(node)\n",
    "            visitedNodes.add(node)\n",
    "            queue.extend(graph_dict[node])\n",
    "    return vnList\n",
    "\n",
    "print(dfs(graph_dict, 1))\n",
    "print(bfs(graph_dict, 1))"
   ]
  },
  {
   "cell_type": "markdown",
   "metadata": {},
   "source": [
    "### Q1 Merge Two Sorted Arrays"
   ]
  },
  {
   "cell_type": "code",
   "execution_count": 33,
   "metadata": {},
   "outputs": [],
   "source": [
    "A = [1,2,3,4,0,0,0]\n",
    "B = [3,4,5]\n",
    "\n",
    "def merge2(A, B, a_len):\n",
    "    A[-4:] = A[:4]\n",
    "    b_len = len(B)\n",
    "    ptr_b = 0\n",
    "    ptr_a = len(A)-a_len\n",
    "    ptr_m = 0\n",
    "    \n",
    "    for _ in range(len(A)):\n",
    "        if ptr_a < len(A) and ptr_b < len(B):\n",
    "            if A[ptr_a]<B[ptr_b]:\n",
    "                A[ptr_m] = A[ptr_a]\n",
    "                ptr_a += 1\n",
    "            else:\n",
    "                A[ptr_m] = B[ptr_b]\n",
    "                ptr_b += 1\n",
    "        elif ptr_a<len(A):\n",
    "            A[ptr_m] = A[ptr_a]\n",
    "            ptr_a += 1\n",
    "        elif ptr_b<len(B):\n",
    "            A[ptr_m] = B[ptr_b]\n",
    "            ptr_b += 1\n",
    "        ptr_m += 1\n",
    "    \n",
    "    return A\n",
    "        \n",
    "    \n",
    "assert(merge2(A, B, 4) == [1, 2, 3, 3, 4, 4, 5])"
   ]
  },
  {
   "cell_type": "markdown",
   "metadata": {},
   "source": [
    "### Q2 Group Anagrams"
   ]
  },
  {
   "cell_type": "code",
   "execution_count": 39,
   "metadata": {},
   "outputs": [
    {
     "data": {
      "text/plain": [
       "[('abc', 0), ('abd', 1), ('cde', 2), ('def', 3), ('cef', 4)]"
      ]
     },
     "execution_count": 39,
     "metadata": {},
     "output_type": "execute_result"
    }
   ],
   "source": [
    "words = ['abc', 'abd', 'cde', 'def', 'cef']\n",
    "words = [(''.join(sorted(x)), idx) for idx,x in enumerate(words)]\n",
    "words"
   ]
  }
 ],
 "metadata": {
  "kernelspec": {
   "display_name": "Python 3",
   "language": "python",
   "name": "python3"
  },
  "language_info": {
   "codemirror_mode": {
    "name": "ipython",
    "version": 3
   },
   "file_extension": ".py",
   "mimetype": "text/x-python",
   "name": "python",
   "nbconvert_exporter": "python",
   "pygments_lexer": "ipython3",
   "version": "3.6.5"
  },
  "varInspector": {
   "cols": {
    "lenName": 16,
    "lenType": 16,
    "lenVar": 40
   },
   "kernels_config": {
    "python": {
     "delete_cmd_postfix": "",
     "delete_cmd_prefix": "del ",
     "library": "var_list.py",
     "varRefreshCmd": "print(var_dic_list())"
    },
    "r": {
     "delete_cmd_postfix": ") ",
     "delete_cmd_prefix": "rm(",
     "library": "var_list.r",
     "varRefreshCmd": "cat(var_dic_list()) "
    }
   },
   "types_to_exclude": [
    "module",
    "function",
    "builtin_function_or_method",
    "instance",
    "_Feature"
   ],
   "window_display": true
  }
 },
 "nbformat": 4,
 "nbformat_minor": 2
}
