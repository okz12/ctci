{
 "cells": [
  {
   "cell_type": "markdown",
   "metadata": {},
   "source": [
    "# Notes\n",
    "\n",
    "### Binary Trees\n",
    "\n",
    "* Binary Tree has up to 2 nodes\n",
    "\n",
    "* Binary Search Tree: all left descendents <= n < all right descendents\n",
    "\n",
    "* Complete Binary Trees: All levels completely filled except perhaps the last one + filled left to right\n",
    "\n",
    "![title](img/notcomplete.png)\n",
    "\n",
    "<img src=\"img/notcomplete.png\" width=\"800\">\n",
    "\n",
    "![Complete Binary Tree](img/notcomplete.PNG)\n",
    "\n",
    "* Full Binary Trees: Every tree has 0 or 2 children, no nodes have only 1 child\n",
    "\n",
    "![title](img/notfull.png)\n",
    "\n",
    "* Perfect Binary Trees: Complete and Full tree\n",
    "\n",
    "* Inorder traversal: left, current, right\n",
    "\n",
    "* Preorder traversal: current, left, right\n",
    "\n",
    "* Postorder traversal: left, right, current\n",
    "\n",
    "### Binary Heap\n",
    "\n",
    "* Complete binary tree. Root is minimum (min-heap) or maximum (max-heap)\n",
    "\n",
    "* Insert: Insert node at bottom and swap until in the correct position\n",
    "\n",
    "* Extract Min: Replace min element with bottom, rightmost and then swap into correct position\n",
    "\n",
    "### Tries\n",
    "\n",
    "* n-ary Tree with characters stored at each node\n",
    "\n",
    "### Graphs\n",
    "\n",
    "* Collections of nodes with edges (between some nodes)\n",
    "\n",
    "* Tree is an an acyclic connected graph\n",
    "\n",
    "* Can be directed or undirected\n",
    "\n",
    "* Can be stored in an adjacency matrix\n",
    "\n",
    "### Graph Search\n",
    "\n",
    "* DFS/BFS\n",
    "\n",
    "![title](img/graphsearch.png)\n",
    "\n",
    "* Bidirectional Search\n",
    "\n",
    "![title](img/bidirectional.png)"
   ]
  },
  {
   "cell_type": "markdown",
   "metadata": {},
   "source": [
    "### Binary Tree"
   ]
  },
  {
   "cell_type": "code",
   "execution_count": 8,
   "metadata": {},
   "outputs": [],
   "source": [
    "class TreeNode:\n",
    "    def __init__(self, val = None):\n",
    "        self.val = val\n",
    "        self.right = None\n",
    "        self.left = None\n",
    "        \n",
    "class Tree:\n",
    "    def __init__(self):\n",
    "        self.head = None\n",
    "        \n",
    "    def inorder(self):\n",
    "        #print left branch, then current node, then right branch\n",
    "        def inorder_helper(node):\n",
    "            if(node != None):\n",
    "                inorder_helper(node.left)\n",
    "                print(node.val)\n",
    "                inorder_helper(node.right)\n",
    "        inorder_helper(self.head)\n",
    "        \n",
    "    def preorder(self):\n",
    "        #print current node, then the branches\n",
    "        def preorder_helper(node):\n",
    "            if(node != None):\n",
    "                print(node.val)\n",
    "                preorder_helper(node.left)\n",
    "                preorder_helper(node.right)\n",
    "        preorder_helper(self.head)\n",
    "        \n",
    "    def postorder(self):\n",
    "        #print print branches, then the node\n",
    "        def postorder_helper(node):\n",
    "            if(node != None):\n",
    "                postorder_helper(node.left)\n",
    "                postorder_helper(node.right)\n",
    "                print(node.val)\n",
    "        postorder_helper(self.head)"
   ]
  },
  {
   "cell_type": "code",
   "execution_count": 9,
   "metadata": {},
   "outputs": [],
   "source": [
    "t_dict = {}\n",
    "for x in range(1,16):\n",
    "    t_dict[x] = TreeNode(x)\n",
    "    \n",
    "t_dict[1].left = t_dict[2]\n",
    "t_dict[1].right = t_dict[3]\n",
    "\n",
    "t_dict[2].left = t_dict[4]\n",
    "t_dict[2].right = t_dict[5]\n",
    "t_dict[3].left = t_dict[6]\n",
    "t_dict[3].right = t_dict[7]\n",
    "\n",
    "t_dict[4].left = t_dict[8]\n",
    "t_dict[4].right = t_dict[9]\n",
    "t_dict[5].left = t_dict[10]\n",
    "t_dict[5].right = t_dict[11]\n",
    "t_dict[6].left = t_dict[12]\n",
    "t_dict[6].right = t_dict[13]\n",
    "t_dict[7].left = t_dict[14]\n",
    "t_dict[7].right = t_dict[15]\n",
    "\n",
    "tree = Tree()\n",
    "tree.head = t_dict[1]"
   ]
  },
  {
   "cell_type": "markdown",
   "metadata": {},
   "source": [
    "![title](img/binary15.png)"
   ]
  },
  {
   "cell_type": "code",
   "execution_count": 10,
   "metadata": {},
   "outputs": [
    {
     "name": "stdout",
     "output_type": "stream",
     "text": [
      "8\n",
      "4\n",
      "9\n",
      "2\n",
      "10\n",
      "5\n",
      "11\n",
      "1\n",
      "12\n",
      "6\n",
      "13\n",
      "3\n",
      "14\n",
      "7\n",
      "15\n"
     ]
    }
   ],
   "source": [
    "tree.inorder()"
   ]
  },
  {
   "cell_type": "code",
   "execution_count": 22,
   "metadata": {},
   "outputs": [
    {
     "name": "stdout",
     "output_type": "stream",
     "text": [
      "1\n",
      "2\n",
      "4\n",
      "8\n",
      "9\n",
      "5\n",
      "10\n",
      "11\n",
      "3\n",
      "6\n",
      "12\n",
      "13\n",
      "7\n",
      "14\n",
      "15\n"
     ]
    }
   ],
   "source": [
    "tree.preorder()"
   ]
  },
  {
   "cell_type": "code",
   "execution_count": 23,
   "metadata": {},
   "outputs": [
    {
     "name": "stdout",
     "output_type": "stream",
     "text": [
      "8\n",
      "9\n",
      "4\n",
      "10\n",
      "11\n",
      "5\n",
      "2\n",
      "12\n",
      "13\n",
      "6\n",
      "14\n",
      "15\n",
      "7\n",
      "3\n",
      "1\n"
     ]
    }
   ],
   "source": [
    "tree.postorder()"
   ]
  },
  {
   "cell_type": "markdown",
   "metadata": {},
   "source": [
    "### Graph"
   ]
  },
  {
   "cell_type": "markdown",
   "metadata": {},
   "source": [
    "### Q1 Route Between nodes"
   ]
  },
  {
   "cell_type": "code",
   "execution_count": 28,
   "metadata": {},
   "outputs": [],
   "source": [
    "from data_structures import LinkedList, ListNode, Queue, Stack"
   ]
  },
  {
   "cell_type": "code",
   "execution_count": 26,
   "metadata": {},
   "outputs": [],
   "source": [
    "graph_dict = {}\n",
    "#graph_dict [start_node] = (value, end_nodes)\n",
    "graph_dict[1] = (1, [2,3,4])\n",
    "graph_dict[2] = (2, [4])\n",
    "graph_dict[3] = (3, [2, 3, 4])\n",
    "graph_dict[4] = (4, [1, 2])\n",
    "graph_dict[5] = (5, [2])"
   ]
  },
  {
   "cell_type": "code",
   "execution_count": null,
   "metadata": {},
   "outputs": [],
   "source": [
    "def graph_search"
   ]
  },
  {
   "cell_type": "markdown",
   "metadata": {},
   "source": [
    "### Q2 Minimal Tree"
   ]
  },
  {
   "cell_type": "code",
   "execution_count": 27,
   "metadata": {},
   "outputs": [
    {
     "data": {
      "text/plain": [
       "[0, 1, 2, 3, 4, 5, 6, 7, 8, 9]"
      ]
     },
     "execution_count": 27,
     "metadata": {},
     "output_type": "execute_result"
    }
   ],
   "source": [
    "b = list(range(10))\n",
    "b "
   ]
  }
 ],
 "metadata": {
  "kernelspec": {
   "display_name": "Python 3",
   "language": "python",
   "name": "python3"
  },
  "language_info": {
   "codemirror_mode": {
    "name": "ipython",
    "version": 3
   },
   "file_extension": ".py",
   "mimetype": "text/x-python",
   "name": "python",
   "nbconvert_exporter": "python",
   "pygments_lexer": "ipython3",
   "version": "3.6.5"
  },
  "varInspector": {
   "cols": {
    "lenName": 16,
    "lenType": 16,
    "lenVar": 40
   },
   "kernels_config": {
    "python": {
     "delete_cmd_postfix": "",
     "delete_cmd_prefix": "del ",
     "library": "var_list.py",
     "varRefreshCmd": "print(var_dic_list())"
    },
    "r": {
     "delete_cmd_postfix": ") ",
     "delete_cmd_prefix": "rm(",
     "library": "var_list.r",
     "varRefreshCmd": "cat(var_dic_list()) "
    }
   },
   "types_to_exclude": [
    "module",
    "function",
    "builtin_function_or_method",
    "instance",
    "_Feature"
   ],
   "window_display": true
  }
 },
 "nbformat": 4,
 "nbformat_minor": 2
}
