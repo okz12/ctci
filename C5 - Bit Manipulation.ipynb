{
 "cells": [
  {
   "cell_type": "markdown",
   "metadata": {},
   "source": [
    "# Notes\n",
    "\n",
    "### Bits\n",
    "\n",
    "* Exercise\n",
    "\n",
    "![Exercise](img/bitexercise.PNG)\n",
    "\n",
    "### Tricks\n",
    "\n",
    "| XOR | AND | OR |\n",
    "| --- | --- | --- |\n",
    "|x ^ 0s = x|x & 0s = 0s|x &#124; 0s = x|\n",
    "|x ^ 1s = ~x|x & 1s = x|x &#124; 1s = 1s|\n",
    "|x ^ x = 0|x & x = x|x &#124; x = x|\n",
    "|x ^ ~x = 1s|x & ~x =0|x &#124; ~x = 1s|\n",
    "\n",
    "### Shfit\n",
    "\n",
    "* Logical Shift: Fill new bit with 0 (causes incorrect halving w/ 2's complement negative numbers)\n",
    "\n",
    "\n",
    "![Logical Shift](img/logicalshift.PNG)\n",
    "\n",
    "* Arithmetic Shift: Fills new bit with sign bit\n",
    "\n",
    "\n",
    "![Arithmetic Shift](img/arithmeticshift.PNG)\n",
    "\n",
    "### Common Operations\n",
    "\n",
    "* Get bit: Create mask by shifting by i bits (e.g. 0001000) and & with integer\n",
    "\n",
    "* Set bit: Create mask by shifting by i bits and OR with integer\n",
    "\n",
    "* Clear bit: Create mask by shifting with i bits, negate (e.g. 1110111) and & with integer\n",
    "\n",
    "* Update bit: Clear bit followed by Set bit\n"
   ]
  },
  {
   "cell_type": "markdown",
   "metadata": {},
   "source": [
    "### Q1 Insertion"
   ]
  },
  {
   "cell_type": "code",
   "execution_count": 31,
   "metadata": {},
   "outputs": [],
   "source": [
    "N = 0b10000000000\n",
    "M = 0b10011\n",
    "i = 2\n",
    "j = 6\n",
    "\n",
    "def insert(N, M, i, j):\n",
    "\n",
    "    x = (sum([1<<k for k in range(i,j+1)]))\n",
    "    bin(x  | 0 << 32)\n",
    "    N = N & ~x\n",
    "    N = N | M << i\n",
    "    return N\n",
    "    \n",
    "Nin = insert(N, M, i, j)\n",
    "assert(Nin == 1100)"
   ]
  },
  {
   "cell_type": "markdown",
   "metadata": {},
   "source": [
    "### Q2 Binary to String"
   ]
  },
  {
   "cell_type": "code",
   "execution_count": 67,
   "metadata": {},
   "outputs": [],
   "source": [
    "num = 0.72\n",
    "def bin_to_str(num):\n",
    "    res = []\n",
    "    div = 1.0\n",
    "\n",
    "    while(num != 0.0 and div > 1e-5):\n",
    "        if (div>num):\n",
    "            res.append(0)\n",
    "        elif (div<=num):\n",
    "            res.append(1)\n",
    "            num -= div\n",
    "        div /=2.0\n",
    "\n",
    "    bin_string = str(res[0]) + \".\" + \"\".join([str(x) for x in res[1:]])\n",
    "    if num !=0.0:\n",
    "        print(\"Error\")\n",
    "    return bin_string\n",
    "\n",
    "assert(bin_to_str(0.5) == '0.1')"
   ]
  },
  {
   "cell_type": "markdown",
   "metadata": {},
   "source": [
    "### Q3 Flip Bit"
   ]
  },
  {
   "cell_type": "code",
   "execution_count": 95,
   "metadata": {},
   "outputs": [],
   "source": [
    "bits = [int(x) for x in list(str(bin(1775)))[2:]]\n",
    "\n",
    "def count_ones(bits, idx):\n",
    "    count = 0\n",
    "    while(idx<len(bits) and bits[idx]==1):\n",
    "        count += 1\n",
    "        idx+=1\n",
    "    return count\n",
    "\n",
    "assert(count_ones([1,1,1,0,0,0], 0) == 3)\n",
    "\n",
    "def flip_bits(bits):\n",
    "    max_count = count = 0\n",
    "    for idx, x in enumerate(bits):\n",
    "        if x==1:\n",
    "            count += 1\n",
    "            if count > max_count:\n",
    "                max_count = count\n",
    "        if x==0:\n",
    "            y_count = count + 1 + count_ones(bits, idx+1)\n",
    "            count = 0\n",
    "            if y_count > max_count:\n",
    "                max_count = y_count\n",
    "    return max_count\n",
    "\n",
    "assert(flip_bits(bits) == 8)"
   ]
  },
  {
   "cell_type": "markdown",
   "metadata": {},
   "source": [
    "### Q4 Next Number"
   ]
  },
  {
   "cell_type": "markdown",
   "metadata": {},
   "source": [
    "### Q5 Debugger"
   ]
  },
  {
   "cell_type": "code",
   "execution_count": 74,
   "metadata": {},
   "outputs": [
    {
     "name": "stdout",
     "output_type": "stream",
     "text": [
      "1 0b1 0b0 0b0 True\n",
      "2 0b10 0b1 0b0 True\n",
      "3 0b11 0b10 0b10 False\n",
      "4 0b100 0b11 0b0 True\n",
      "5 0b101 0b100 0b100 False\n",
      "6 0b110 0b101 0b100 False\n",
      "7 0b111 0b110 0b110 False\n",
      "8 0b1000 0b111 0b0 True\n",
      "9 0b1001 0b1000 0b1000 False\n",
      "10 0b1010 0b1001 0b1000 False\n",
      "11 0b1011 0b1010 0b1010 False\n",
      "12 0b1100 0b1011 0b1000 False\n",
      "13 0b1101 0b1100 0b1100 False\n",
      "14 0b1110 0b1101 0b1100 False\n",
      "15 0b1111 0b1110 0b1110 False\n",
      "16 0b10000 0b1111 0b0 True\n"
     ]
    }
   ],
   "source": [
    "def debugger(n):\n",
    "    print(n, bin(n), bin(n-1), bin(n & (n-1)), (n & (n-1) == 0))\n",
    "    \n",
    "for x in range(1,17):\n",
    "    debugger(x)"
   ]
  },
  {
   "cell_type": "markdown",
   "metadata": {},
   "source": [
    "### Q6 Conversion"
   ]
  },
  {
   "cell_type": "code",
   "execution_count": 43,
   "metadata": {},
   "outputs": [],
   "source": [
    "def convert(a,b):\n",
    "    c = a^b\n",
    "    count = 0\n",
    "    while(c != 0):\n",
    "        count += c&1\n",
    "        c>>=1\n",
    "    return count\n",
    "\n",
    "assert(convert(29, 15) == 2)"
   ]
  },
  {
   "cell_type": "markdown",
   "metadata": {},
   "source": [
    "### Q7 Pairwise Swap"
   ]
  },
  {
   "cell_type": "code",
   "execution_count": 50,
   "metadata": {},
   "outputs": [],
   "source": [
    "def pairwise_swap(num):\n",
    "    even_mask = 0xAA\n",
    "    odd_mask = even_mask >> 1\n",
    "    even = num & even_mask\n",
    "    odd = num & odd_mask\n",
    "\n",
    "    return even >> 1 | odd << 1\n",
    "\n",
    "num = 0b10110001\n",
    "r = pairwise_swap(num)\n",
    "assert(r==114)"
   ]
  },
  {
   "cell_type": "code",
   "execution_count": null,
   "metadata": {},
   "outputs": [],
   "source": []
  }
 ],
 "metadata": {
  "kernelspec": {
   "display_name": "Python 3",
   "language": "python",
   "name": "python3"
  },
  "language_info": {
   "codemirror_mode": {
    "name": "ipython",
    "version": 3
   },
   "file_extension": ".py",
   "mimetype": "text/x-python",
   "name": "python",
   "nbconvert_exporter": "python",
   "pygments_lexer": "ipython3",
   "version": "3.6.5"
  },
  "varInspector": {
   "cols": {
    "lenName": 16,
    "lenType": 16,
    "lenVar": 40
   },
   "kernels_config": {
    "python": {
     "delete_cmd_postfix": "",
     "delete_cmd_prefix": "del ",
     "library": "var_list.py",
     "varRefreshCmd": "print(var_dic_list())"
    },
    "r": {
     "delete_cmd_postfix": ") ",
     "delete_cmd_prefix": "rm(",
     "library": "var_list.r",
     "varRefreshCmd": "cat(var_dic_list()) "
    }
   },
   "types_to_exclude": [
    "module",
    "function",
    "builtin_function_or_method",
    "instance",
    "_Feature"
   ],
   "window_display": true
  }
 },
 "nbformat": 4,
 "nbformat_minor": 2
}
