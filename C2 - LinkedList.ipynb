{
 "cells": [
  {
   "cell_type": "markdown",
   "metadata": {},
   "source": [
    "# Notes\n",
    "\n",
    "### LinkedList\n",
    "\n",
    "* Data structure that represents a sequence of nodes\n",
    "\n",
    "* Singly LinkedList contains value and points to next node\n",
    "\n",
    "* Doubly LinkedList contains values and points to next and previous node"
   ]
  },
  {
   "cell_type": "code",
   "execution_count": 169,
   "metadata": {},
   "outputs": [],
   "source": [
    "class ListNode:\n",
    "    def __init__(self, val=None):\n",
    "        self.val = val\n",
    "        self.next = None\n",
    "        \n",
    "class LinkedList:\n",
    "    def __init__(self, from_list = None):\n",
    "        if(from_list and from_list != []):\n",
    "            self.head = curr = ListNode(from_list[0])\n",
    "            for val in from_list[1:]:\n",
    "                curr.next = ListNode(val)\n",
    "                curr = curr.next\n",
    "        else:\n",
    "            self.head = None\n",
    "        \n",
    "    def print_list(self):\n",
    "        curr = self.head\n",
    "        while curr:\n",
    "            print(curr.val)\n",
    "            curr = curr.next\n",
    "            \n",
    "    def as_list(self):\n",
    "        res = []\n",
    "        curr = self.head\n",
    "        while curr:\n",
    "            res.append(curr.val)\n",
    "            curr = curr.next\n",
    "        return res\n",
    "    \n",
    "    def get_len(self):\n",
    "        curr = self.head\n",
    "        c=1\n",
    "        while(curr.next):\n",
    "            curr = curr.next\n",
    "            c+=1\n",
    "        return c, curr"
   ]
  },
  {
   "cell_type": "markdown",
   "metadata": {},
   "source": [
    "### Delete Nth Node"
   ]
  },
  {
   "cell_type": "code",
   "execution_count": 28,
   "metadata": {},
   "outputs": [],
   "source": [
    "def delete_n_node(linkedList, n):\n",
    "    curr = linkedList.head\n",
    "    if(n==0):\n",
    "        linkedList.head = curr.next\n",
    "        return\n",
    "    \n",
    "    for _ in range(n-1):\n",
    "        if curr.next:\n",
    "            curr = curr.next\n",
    "    if curr.next:\n",
    "        curr.next = curr.next.next"
   ]
  },
  {
   "cell_type": "code",
   "execution_count": 29,
   "metadata": {},
   "outputs": [],
   "source": [
    "ll = LinkedList([1,2,3,4])\n",
    "delete_n_node(ll, 3)\n",
    "assert(ll.as_list()) == [1,2,3]\n",
    "\n",
    "ll = LinkedList([1,2,3,4])\n",
    "delete_n_node(ll, 4)\n",
    "assert(ll.as_list()) == [1,2,3,4]\n",
    "\n",
    "ll = LinkedList([1,2,3,4])\n",
    "delete_n_node(ll, 0)\n",
    "assert(ll.as_list()) == [2,3,4]"
   ]
  },
  {
   "cell_type": "markdown",
   "metadata": {},
   "source": [
    "### Q1 Remove Duplicates"
   ]
  },
  {
   "cell_type": "code",
   "execution_count": 33,
   "metadata": {},
   "outputs": [],
   "source": [
    "def remove_duplicates(linkedList):\n",
    "    val_set = set([linkedList.head.val])\n",
    "    prev = linkedList.head\n",
    "    curr = prev.next\n",
    "    while curr:\n",
    "        if curr.val in val_set:\n",
    "            prev.next = curr.next\n",
    "            curr = prev.next\n",
    "        else:\n",
    "            val_set.add(curr.val)\n",
    "            prev, curr = curr, curr.next"
   ]
  },
  {
   "cell_type": "code",
   "execution_count": 35,
   "metadata": {},
   "outputs": [],
   "source": [
    "ll = LinkedList([1,2,2,3,4])\n",
    "remove_duplicates(ll)\n",
    "assert(ll.as_list()) == [1,2,3,4]\n",
    "\n",
    "ll = LinkedList([1,1,2,3,4])\n",
    "remove_duplicates(ll)\n",
    "assert(ll.as_list()) == [1,2,3,4]\n",
    "\n",
    "ll = LinkedList([1,2,3,4,4])\n",
    "remove_duplicates(ll)\n",
    "assert(ll.as_list()) == [1,2,3,4]"
   ]
  },
  {
   "cell_type": "markdown",
   "metadata": {},
   "source": [
    "### Q2 Return Kth to Last"
   ]
  },
  {
   "cell_type": "code",
   "execution_count": 40,
   "metadata": {},
   "outputs": [],
   "source": [
    "def ktl(linkedList, k):\n",
    "    slow = fast = linkedList.head\n",
    "    \n",
    "    for _ in range(k):\n",
    "        fast = fast.next\n",
    "        \n",
    "    while(fast.next):\n",
    "        slow, fast = slow.next, fast.next\n",
    "        \n",
    "    return slow.val\n",
    "\n",
    "ll = LinkedList([1,2,3,4,5,6])\n",
    "assert(ktl(ll, 0)) == 6\n",
    "assert(ktl(ll, 1)) == 5\n",
    "assert(ktl(ll, 3)) == 3\n",
    "assert(ktl(ll, 5)) == 1"
   ]
  },
  {
   "cell_type": "markdown",
   "metadata": {},
   "source": [
    "### Q3 Delete Middle Node"
   ]
  },
  {
   "cell_type": "code",
   "execution_count": 63,
   "metadata": {},
   "outputs": [],
   "source": [
    "def dmn(node):\n",
    "    node.val = node.next.val\n",
    "    node.next = node.next.next"
   ]
  },
  {
   "cell_type": "code",
   "execution_count": 64,
   "metadata": {},
   "outputs": [],
   "source": [
    "ll = LinkedList([1,2,3,4,5,6])\n",
    "n1 = ll.head.next.next\n",
    "dmn(n1)\n",
    "assert(ll.as_list()) == [1,2,4,5,6]\n",
    "\n",
    "\n",
    "ll = LinkedList([1,2,3,4,5,6])\n",
    "n1 = ll.head.next.next.next.next\n",
    "dmn(n1)\n",
    "ll.as_list()\n",
    "assert(ll.as_list()) == [1,2,3,4,6]"
   ]
  },
  {
   "cell_type": "markdown",
   "metadata": {},
   "source": [
    "### Q4 Partition"
   ]
  },
  {
   "cell_type": "code",
   "execution_count": 86,
   "metadata": {},
   "outputs": [],
   "source": [
    "def partition(linkedList, p):\n",
    "    p_less = LinkedList()\n",
    "    p_greater = LinkedList()\n",
    "    \n",
    "    curr = linkedList.head\n",
    "    while curr:\n",
    "        n = ListNode(curr.val)\n",
    "        \n",
    "        if curr.val<p:\n",
    "            if p_less.head == None:\n",
    "                p_less.head = n\n",
    "            else:\n",
    "                p_less_ptr.next = n\n",
    "            p_less_ptr = n\n",
    "        \n",
    "        else:\n",
    "            if p_greater.head == None:\n",
    "                p_greater.head = n\n",
    "            else:\n",
    "                p_greater_ptr.next = n\n",
    "            p_greater_ptr = n\n",
    "        curr = curr.next\n",
    "    \n",
    "    p_less_ptr.next = p_greater.head\n",
    "    return (p_less)\n",
    "\n",
    "pl = partition(LinkedList([6,5,4,3,2,1]),3)\n",
    "\n",
    "\n",
    "def check(ll, p): #check all numbers greater than partition are after numbers smaller than partition\n",
    "    t_l = [x>=p for x in ll.as_list()]\n",
    "    t_l_f = True\n",
    "    for b in t_l:\n",
    "        if (t_l_f and b):\n",
    "            t_l_f = False\n",
    "        if (not t_l_f and not b):\n",
    "            return False\n",
    "    return True\n",
    "\n",
    "assert(check(pl, 3)) == True  "
   ]
  },
  {
   "cell_type": "markdown",
   "metadata": {},
   "source": [
    "### Q5 Sum Lists"
   ]
  },
  {
   "cell_type": "code",
   "execution_count": 151,
   "metadata": {},
   "outputs": [],
   "source": [
    "def rev_list(n):\n",
    "    return [int(x) for x in list(str(n))[::-1]]\n",
    "def unrev_list(l):\n",
    "    return int(\"\".join([str(x) for x in l[::-1]]))\n",
    "\n",
    "n1 = 617\n",
    "n2 = 295\n",
    "#unequal\n",
    "n3 = 1391\n",
    "#final carry\n",
    "n4 = 617\n",
    "\n",
    "s1 = LinkedList(rev_list(n1))\n",
    "s2 = LinkedList(rev_list(n2))\n",
    "s3 = LinkedList(rev_list(n3))\n",
    "s4 = LinkedList(rev_list(n4))"
   ]
  },
  {
   "cell_type": "code",
   "execution_count": 152,
   "metadata": {},
   "outputs": [],
   "source": [
    "def sum_lists(s1, s2):\n",
    "    s1ptr = s1.head\n",
    "    s2ptr = s2.head\n",
    "    \n",
    "    carry = 0\n",
    "    res = LinkedList()\n",
    "    while(s1ptr and s2ptr):\n",
    "        add = s1ptr.val + s2ptr.val + carry\n",
    "        n = ListNode(add%10) \n",
    "        carry = add>9\n",
    "        if not res.head:\n",
    "            res.head = n\n",
    "            curr = n\n",
    "        else:\n",
    "            curr.next = n\n",
    "            curr = curr.next\n",
    "        s1ptr, s2ptr = s1ptr.next, s2ptr.next\n",
    "        \n",
    "    #print(s2ptr.val)\n",
    "    if (s1ptr):\n",
    "        curr.next = s1ptr\n",
    "    if (s2ptr):\n",
    "        curr.next = s2ptr\n",
    "        \n",
    "    if (carry):\n",
    "        if(s1ptr or s2ptr):\n",
    "            curr.next.val += 1\n",
    "        else:\n",
    "            n = ListNode(1)\n",
    "            curr.next = n\n",
    "    return res\n",
    "a = sum_lists(s1,s2)\n",
    "assert(unrev_list(a.as_list())) == n1+n2\n",
    "\n",
    "a = sum_lists(s1,s3)\n",
    "assert(unrev_list(a.as_list())) == n1+n3\n",
    "        \n",
    "a = sum_lists(s1,s4)\n",
    "assert(unrev_list(a.as_list())) == n1+n4"
   ]
  },
  {
   "cell_type": "markdown",
   "metadata": {},
   "source": [
    "### Q6 Check if List is a Palindrome"
   ]
  },
  {
   "cell_type": "code",
   "execution_count": 90,
   "metadata": {},
   "outputs": [],
   "source": [
    "palindrome = LinkedList([1,2,3,4,3,2,1]) \n",
    "#stack / list functionality already in class -- can improve\n",
    "assert(palindrome.as_list()) == palindrome.as_list()[::-1]"
   ]
  },
  {
   "cell_type": "markdown",
   "metadata": {},
   "source": [
    "### Q7 Intersection"
   ]
  },
  {
   "cell_type": "code",
   "execution_count": 170,
   "metadata": {},
   "outputs": [],
   "source": [
    "a = LinkedList([1,2,3,4,5,6])\n",
    "b = LinkedList([-1,-2,-3,-4,-5])\n",
    "curr = b.head\n",
    "while curr.next:\n",
    "    curr = curr.next\n",
    "curr.next = a.head.next.next\n",
    "\n",
    "c = LinkedList([10,11,12,13,14])"
   ]
  },
  {
   "cell_type": "code",
   "execution_count": 171,
   "metadata": {},
   "outputs": [
    {
     "name": "stdout",
     "output_type": "stream",
     "text": [
      "[1, 2, 3, 4, 5, 6]\n",
      "[-1, -2, -3, -4, -5, 3, 4, 5, 6]\n"
     ]
    }
   ],
   "source": [
    "print(a.as_list())\n",
    "print(b.as_list())"
   ]
  },
  {
   "cell_type": "code",
   "execution_count": 173,
   "metadata": {},
   "outputs": [],
   "source": [
    "def intersection(a, b):\n",
    "    a_len, a_ptr = a.get_len()\n",
    "    b_len, b_ptr = b.get_len()\n",
    "    \n",
    "    if (a_ptr != b_ptr):\n",
    "        return False\n",
    "    \n",
    "    a_ptr, b_ptr = a.head, b.head\n",
    "    if a_len > b_len:\n",
    "        for _ in range (a_len - b_len):\n",
    "            a_ptr = a_ptr.next\n",
    "    else:\n",
    "        for _ in range (b_len - a_len):\n",
    "            b_ptr = b_ptr.next\n",
    "            \n",
    "    while(a_ptr != b_ptr):\n",
    "        a_ptr, b_ptr = a_ptr.next, b_ptr.next\n",
    "    \n",
    "    return a_ptr.val\n",
    "\n",
    "assert(intersection(a,b)) == 3\n",
    "assert(intersection(a,c)) == False"
   ]
  },
  {
   "cell_type": "markdown",
   "metadata": {},
   "source": [
    "### Q8 Loops"
   ]
  },
  {
   "cell_type": "code",
   "execution_count": 188,
   "metadata": {},
   "outputs": [],
   "source": [
    "a = LinkedList([1,2,3,4,5,6,7,8,9,10,11,12])\n",
    "b = LinkedList([1,2,3,4,5])\n",
    "c, curr = b.get_len()\n",
    "curr.next = b.head"
   ]
  },
  {
   "cell_type": "code",
   "execution_count": 195,
   "metadata": {},
   "outputs": [],
   "source": [
    "def loops(l):\n",
    "    if not(l.head and l.head.next):\n",
    "        return True\n",
    "    slow_ptr, fast_ptr = l.head, l.head.next.next\n",
    "    while(fast_ptr and fast_ptr.next):\n",
    "        if (slow_ptr == fast_ptr):\n",
    "            return False\n",
    "        slow_ptr, fast_ptr = slow_ptr.next, fast_ptr.next.next\n",
    "    return True\n",
    "\n",
    "assert(loops(a)) == True\n",
    "assert(loops(b)) == False"
   ]
  }
 ],
 "metadata": {
  "kernelspec": {
   "display_name": "Python 3",
   "language": "python",
   "name": "python3"
  },
  "language_info": {
   "codemirror_mode": {
    "name": "ipython",
    "version": 3
   },
   "file_extension": ".py",
   "mimetype": "text/x-python",
   "name": "python",
   "nbconvert_exporter": "python",
   "pygments_lexer": "ipython3",
   "version": "3.6.5"
  },
  "varInspector": {
   "cols": {
    "lenName": 16,
    "lenType": 16,
    "lenVar": 40
   },
   "kernels_config": {
    "python": {
     "delete_cmd_postfix": "",
     "delete_cmd_prefix": "del ",
     "library": "var_list.py",
     "varRefreshCmd": "print(var_dic_list())"
    },
    "r": {
     "delete_cmd_postfix": ") ",
     "delete_cmd_prefix": "rm(",
     "library": "var_list.r",
     "varRefreshCmd": "cat(var_dic_list()) "
    }
   },
   "types_to_exclude": [
    "module",
    "function",
    "builtin_function_or_method",
    "instance",
    "_Feature"
   ],
   "window_display": true
  }
 },
 "nbformat": 4,
 "nbformat_minor": 2
}
