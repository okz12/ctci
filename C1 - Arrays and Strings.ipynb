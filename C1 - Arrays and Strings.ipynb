{
 "cells": [
  {
   "cell_type": "markdown",
   "metadata": {},
   "source": [
    "# Notes\n",
    "\n",
    "### Hash Tables\n",
    "\n",
    "* Maps keys to values for highly efficent lookup\n",
    "\n",
    "* Hash function should avoid clashes while generating unique values. High collisions could lead to O(N) lookup complexity, efficient hash function can assume an O(1) complexity\n",
    "\n",
    "* Collisions can be dealt with by using LinkedList\n",
    "\n",
    "### ArrayList / Resizable Arrays\n",
    "\n",
    "* Implementation dependent but usually increase capacity to double after reaching threshold\n",
    "\n",
    "* ~O(N) total insertion cost for N-element array, O(1) per insertion"
   ]
  },
  {
   "cell_type": "markdown",
   "metadata": {},
   "source": [
    "### Q1 Is Unique"
   ]
  },
  {
   "cell_type": "code",
   "execution_count": 3,
   "metadata": {},
   "outputs": [],
   "source": [
    "string_n = 'abcdefabc'\n",
    "string_p = 'abcdef'"
   ]
  },
  {
   "cell_type": "code",
   "execution_count": 6,
   "metadata": {},
   "outputs": [],
   "source": [
    "#pythonic\n",
    "def is_unique(s):\n",
    "    return len(set(s)) == len(s)\n",
    "\n",
    "assert is_unique(string_n)==False\n",
    "assert is_unique(string_p)==True"
   ]
  },
  {
   "cell_type": "code",
   "execution_count": 23,
   "metadata": {},
   "outputs": [],
   "source": [
    "def is_unique2(s):\n",
    "    letters = set()\n",
    "    for l in list(s):\n",
    "        if l in letters:\n",
    "            return False\n",
    "        else:\n",
    "            letters.add(l)\n",
    "    return True\n",
    "\n",
    "assert is_unique2(string_n)==False\n",
    "assert is_unique2(string_p)==True"
   ]
  },
  {
   "cell_type": "markdown",
   "metadata": {},
   "source": [
    "### Q2 Check Permutation"
   ]
  },
  {
   "cell_type": "code",
   "execution_count": 44,
   "metadata": {},
   "outputs": [],
   "source": [
    "s1 = \"abcdefa\"\n",
    "s2 = \"defabca\"\n",
    "s3 = \"mksals\"\n",
    "s4 = \"abcdefal\""
   ]
  },
  {
   "cell_type": "code",
   "execution_count": 45,
   "metadata": {},
   "outputs": [
    {
     "name": "stdout",
     "output_type": "stream",
     "text": [
      "True\n"
     ]
    }
   ],
   "source": [
    "from collections import Counter\n",
    "def check_permutation(s1, s2):\n",
    "    s1c = Counter(s1)\n",
    "    s2c = Counter(s2)\n",
    "    keys = list(set(list(s1c.keys()) + list(s2c.keys())))\n",
    "    for k in keys:\n",
    "        if not(k in s1c and k in s2c and s1c[k] == s2c[k]):\n",
    "            return False\n",
    "    return True\n",
    "    \n",
    "print(check_permutation(s1,s2))"
   ]
  },
  {
   "cell_type": "code",
   "execution_count": 46,
   "metadata": {},
   "outputs": [],
   "source": [
    "assert(check_permutation(s1,s2)) == True\n",
    "assert(check_permutation(s2,s1)) == True\n",
    "assert(check_permutation(s1,s3)) == False\n",
    "assert(check_permutation(s3,s1)) == False\n",
    "assert(check_permutation(s1,s4)) == False\n",
    "assert(check_permutation(s4,s1)) == False"
   ]
  },
  {
   "cell_type": "markdown",
   "metadata": {},
   "source": [
    "### Q3 URLify"
   ]
  },
  {
   "cell_type": "code",
   "execution_count": 48,
   "metadata": {},
   "outputs": [],
   "source": [
    "s = \"Mr John Smith\"\n",
    "def URLify(s):\n",
    "    return s.replace(\" \",\"%20\")\n",
    "\n",
    "assert(URLify(s) == 'Mr%20John%20Smith')"
   ]
  },
  {
   "cell_type": "markdown",
   "metadata": {},
   "source": [
    "### Q4 Palindrome Permutation"
   ]
  },
  {
   "cell_type": "code",
   "execution_count": 49,
   "metadata": {},
   "outputs": [],
   "source": [
    "s1 = \"taco cat\"\n",
    "s2 = \"tacoo cat\"\n",
    "s3 = \"tacoo catoa\""
   ]
  },
  {
   "cell_type": "code",
   "execution_count": 54,
   "metadata": {},
   "outputs": [],
   "source": [
    "from collections import Counter\n",
    "def palin_perm(s):\n",
    "    sc = Counter(s.replace(\" \",\"\"))\n",
    "    return sum([sc[x]%2 for x in sc]) < 2"
   ]
  },
  {
   "cell_type": "code",
   "execution_count": 55,
   "metadata": {},
   "outputs": [],
   "source": [
    "assert(palin_perm(s1)) == True\n",
    "assert(palin_perm(s2)) == True\n",
    "assert(palin_perm(s3)) == False"
   ]
  },
  {
   "cell_type": "markdown",
   "metadata": {},
   "source": [
    "### Q5 One-Away"
   ]
  },
  {
   "cell_type": "code",
   "execution_count": 56,
   "metadata": {},
   "outputs": [],
   "source": [
    "s1 = \"abcabc\"\n",
    "s2 = \"abcfbc\"\n",
    "s3 = \"abcbc\"\n",
    "s4 = \"abcdabc\"\n",
    "s5 = \"abcdefabc\""
   ]
  },
  {
   "cell_type": "code",
   "execution_count": 64,
   "metadata": {},
   "outputs": [],
   "source": [
    "def oneaway(s1, s2):\n",
    "    s1, s2 = list(s1), list(s2)\n",
    "    while(len(s1)>0 and len(s2)>0 and s1[-1]==s2[-1]):\n",
    "        s1.pop()\n",
    "        s2.pop()\n",
    "        \n",
    "        \n",
    "    while(len(s1)>0 and len(s2)>0 and s1[0]==s2[0]):\n",
    "        s1.pop(0)\n",
    "        s2.pop(0)\n",
    "        \n",
    "    return (max(len(s1), len(s2)) < 2)"
   ]
  },
  {
   "cell_type": "code",
   "execution_count": 65,
   "metadata": {},
   "outputs": [],
   "source": [
    "assert(oneaway(s1, s2)) == True\n",
    "assert(oneaway(s1, s2)) == True\n",
    "assert(oneaway(s1, s3)) == True\n",
    "assert(oneaway(s1, s4)) == True\n",
    "assert(oneaway(s1, s5)) == False"
   ]
  },
  {
   "cell_type": "markdown",
   "metadata": {},
   "source": [
    "### Q6 String Compression"
   ]
  },
  {
   "cell_type": "code",
   "execution_count": 66,
   "metadata": {},
   "outputs": [],
   "source": [
    "s = 'aabcccccaaa'"
   ]
  },
  {
   "cell_type": "code",
   "execution_count": 71,
   "metadata": {},
   "outputs": [
    {
     "data": {
      "text/plain": [
       "'a2b1c5a3'"
      ]
     },
     "execution_count": 71,
     "metadata": {},
     "output_type": "execute_result"
    }
   ],
   "source": [
    "def str_compress(s):\n",
    "    string = list(s)\n",
    "    curr_letter = s[0]\n",
    "    counter = 1\n",
    "    res=\"\"\n",
    "    for letter in string[1:]:\n",
    "        if letter == curr_letter:\n",
    "            counter += 1\n",
    "        else:\n",
    "            res += curr_letter + str(counter)\n",
    "            counter = 1\n",
    "            curr_letter = letter\n",
    "    res += curr_letter + str(counter)\n",
    "    return res\n",
    "        \n",
    "str_compress(s)"
   ]
  },
  {
   "cell_type": "markdown",
   "metadata": {},
   "source": [
    "### Q7 Rotate Matrix"
   ]
  },
  {
   "cell_type": "code",
   "execution_count": 97,
   "metadata": {},
   "outputs": [],
   "source": [
    "matrix = [[1, 2, 3, 4],\n",
    "         [5, 6, 7, 8],\n",
    "         [9, 10, 11, 12],\n",
    "         [13, 14, 15, 16]]\n",
    "\n",
    "#counter clockwise\n",
    "rot_matrix = [[4, 8, 12, 16],\n",
    "             [3, 7, 11, 15],\n",
    "             [2, 6, 10, 14],\n",
    "             [1, 5, 9, 13]]\n",
    "\n",
    "#new x <= y\n",
    "#new y <= N-1-x"
   ]
  },
  {
   "cell_type": "code",
   "execution_count": 114,
   "metadata": {},
   "outputs": [],
   "source": [
    "def rotate_matrix(mat):\n",
    "    N = len(mat)\n",
    "    #transpose/diagonal flip\n",
    "    for x in range(N):\n",
    "        for y in range(x):\n",
    "            mat[y][x], mat[x][y] = mat[x][y], mat[y][x]\n",
    "    \n",
    "    #flip around horizon\n",
    "    for y in range(N//2):\n",
    "        for x in range(N):\n",
    "            mat[y][x], mat[N-1-y][x] = mat[N-1-y][x], mat[y][x]\n",
    "    return mat"
   ]
  },
  {
   "cell_type": "code",
   "execution_count": 115,
   "metadata": {},
   "outputs": [],
   "source": [
    "assert(rotate_matrix(matrix) == rot_matrix)"
   ]
  },
  {
   "cell_type": "markdown",
   "metadata": {},
   "source": [
    "### Q8 Zero Matrix"
   ]
  },
  {
   "cell_type": "code",
   "execution_count": 130,
   "metadata": {},
   "outputs": [],
   "source": [
    "matrix = [[1, 2, 3, 4],\n",
    "         [5, 0, 7, 8],\n",
    "         [9, 10, 11, 12],\n",
    "         [13, 14, 15, 0]]\n",
    "\n",
    "z_matrix = [[1, 0, 3, 0],\n",
    "         [0, 0, 0, 0],\n",
    "         [9, 0, 11, 0],\n",
    "         [0, 0, 0, 0]]"
   ]
  },
  {
   "cell_type": "code",
   "execution_count": 131,
   "metadata": {},
   "outputs": [],
   "source": [
    "def zero_matrix(mat):\n",
    "    N = len(mat)#y\n",
    "    M = len(mat[0])#x\n",
    "    x_idx = []\n",
    "    y_idx = []\n",
    "    for x in range(M):\n",
    "        for y in range(N):\n",
    "            if mat[y][x] == 0:\n",
    "                x_idx.append(x)\n",
    "                y_idx.append(y)\n",
    "    \n",
    "    for x in x_idx:\n",
    "        for y in range(N):\n",
    "            mat[y][x] = 0\n",
    "    \n",
    "    for y in y_idx:\n",
    "        for x in range(M):\n",
    "            mat[y][x] = 0\n",
    "            \n",
    "    return mat\n",
    "\n",
    "assert(zero_matrix(matrix) == z_matrix)"
   ]
  },
  {
   "cell_type": "markdown",
   "metadata": {},
   "source": [
    "### Q9 String Rotation"
   ]
  },
  {
   "cell_type": "code",
   "execution_count": 132,
   "metadata": {},
   "outputs": [],
   "source": [
    "s1 = \"waterbottle\"\n",
    "s2 = \"erbottlewat\""
   ]
  },
  {
   "cell_type": "code",
   "execution_count": 140,
   "metadata": {},
   "outputs": [],
   "source": [
    "def isSubstring(s, sub_str):\n",
    "    return sub_str in s\n",
    "\n",
    "assert(isSubstring(s1 + s1, s2))"
   ]
  }
 ],
 "metadata": {
  "kernelspec": {
   "display_name": "Python 3",
   "language": "python",
   "name": "python3"
  },
  "language_info": {
   "codemirror_mode": {
    "name": "ipython",
    "version": 3
   },
   "file_extension": ".py",
   "mimetype": "text/x-python",
   "name": "python",
   "nbconvert_exporter": "python",
   "pygments_lexer": "ipython3",
   "version": "3.6.5"
  },
  "varInspector": {
   "cols": {
    "lenName": 16,
    "lenType": 16,
    "lenVar": 40
   },
   "kernels_config": {
    "python": {
     "delete_cmd_postfix": "",
     "delete_cmd_prefix": "del ",
     "library": "var_list.py",
     "varRefreshCmd": "print(var_dic_list())"
    },
    "r": {
     "delete_cmd_postfix": ") ",
     "delete_cmd_prefix": "rm(",
     "library": "var_list.r",
     "varRefreshCmd": "cat(var_dic_list()) "
    }
   },
   "types_to_exclude": [
    "module",
    "function",
    "builtin_function_or_method",
    "instance",
    "_Feature"
   ],
   "window_display": true
  }
 },
 "nbformat": 4,
 "nbformat_minor": 2
}
