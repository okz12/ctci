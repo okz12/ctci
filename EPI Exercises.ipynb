{
 "cells": [
  {
   "cell_type": "code",
   "execution_count": 2,
   "metadata": {},
   "outputs": [
    {
     "data": {
      "text/plain": [
       "12"
      ]
     },
     "execution_count": 2,
     "metadata": {},
     "output_type": "execute_result"
    }
   ],
   "source": [
    "#24.1 GCD\n",
    "\n",
    "def gcd(x, y):\n",
    "    if x>y:\n",
    "        return gcd(y,x)\n",
    "    elif x==0:\n",
    "        return y\n",
    "    elif not (x&1) and not (y&1):\n",
    "        return gcd(x>>1, y>>1) << 1\n",
    "    elif not (x&1):\n",
    "        return gcd(x>>1, y)\n",
    "    elif not (y&1):\n",
    "        return gcd(x, y>>1)\n",
    "    return gcd(x, y-x)\n",
    "\n",
    "gcd(24, 300)"
   ]
  },
  {
   "cell_type": "code",
   "execution_count": 3,
   "metadata": {},
   "outputs": [
    {
     "data": {
      "text/plain": [
       "4"
      ]
     },
     "execution_count": 3,
     "metadata": {},
     "output_type": "execute_result"
    }
   ],
   "source": [
    "#24.2 Missing Positive Entry\n",
    "\n",
    "A = [3, 5, 4, -1, 5, 1, -1, 2]\n",
    "\n",
    "def find_first_missing_positive(A):\n",
    "\n",
    "    for i in range(len(A)):\n",
    "        #if A[i] <= len(A) and A[i] > 0, write to A[i-1]\n",
    "        #A[i] is not already A[A[i-1]]\n",
    "        if (A[i] <= len(A) and A[i]>0) and A[i] != A[A[i] - 1]:\n",
    "            #swap -- sensitive to order A[i] - 1 may be == i\n",
    "            A[A[i] - 1], A[i] = A[i], A[A[i] - 1]\n",
    "            '''\n",
    "            #correct\n",
    "            tmp = A[A[i] - 1]\n",
    "            A[A[i] - 1] = A[i]\n",
    "            A[i] = tmp\n",
    "            \n",
    "            #wrong\n",
    "            tmp = A[i]\n",
    "            A[i] = A[A[i] - 1]\n",
    "            A[A[i] - 1] = tmp #<-- value of A[i] here changes, fix = A[tmp -1] = tmp\n",
    "            '''\n",
    "    return A\n",
    "\n",
    "def find_first_mismatch(A):\n",
    "    for idx, val in enumerate(A):\n",
    "        if idx + 1 != val:\n",
    "            return idx + 1\n",
    "    return len(A) + 1\n",
    "A = find_first_missing_positive(A)\n",
    "find_first_mismatch(A)"
   ]
  },
  {
   "cell_type": "code",
   "execution_count": 4,
   "metadata": {},
   "outputs": [],
   "source": [
    "#24.3 Buy and Sell Stock k Times"
   ]
  },
  {
   "cell_type": "code",
   "execution_count": 96,
   "metadata": {},
   "outputs": [],
   "source": [
    "#24.4 Max Product of All Entries But One\n",
    "\n",
    "#if even number of negatives -> leave out min positive value\n",
    "#if odd number of negatives -> leave out min negative value\n",
    "\n",
    "def max_mult_but_one(A):\n",
    "    max_neg = float('-inf')\n",
    "    min_pos = float('inf')\n",
    "    min_neg = 0\n",
    "    total = 1\n",
    "    for val in A:\n",
    "        total *= val\n",
    "        if val<0 and val>max_neg:\n",
    "            max_neg = val\n",
    "        if val>0 and val<min_pos:\n",
    "            min_pos = val\n",
    "        min_neg = min(min_neg, val)\n",
    "        \n",
    "    if len(A)%2 == 1:#if odd, remove number with lower magnitude\n",
    "        if total>0:\n",
    "            return total/min_pos\n",
    "        else:\n",
    "            return total/max_neg\n",
    "            \n",
    "    if len(A)%2 == 0:#even entries\n",
    "        if total>0 and min_pos != float('inf'):\n",
    "            return total/min_pos\n",
    "        elif total>0 and min_pos == float('inf'):\n",
    "            return total/min_neg\n",
    "        else:\n",
    "            return total/max_neg\n",
    "\n",
    "assert(max_mult_but_one([-1, -2, -3, -4, -5, -6])==-120)#even negative, leave out -6\n",
    "assert(max_mult_but_one([-1, -2, -3, -4, -5]) == 120)#odd negative, leave out -1\n",
    "assert(max_mult_but_one([1, 2, 3, 4, 5]) == 120)#odd positive, leave out 1\n",
    "assert(max_mult_but_one([-1, -2, -3, -4, 1, 2, 3, 4]) == 24*24)#even mixed, leave out 1"
   ]
  },
  {
   "cell_type": "code",
   "execution_count": 98,
   "metadata": {},
   "outputs": [
    {
     "data": {
      "text/plain": [
       "7"
      ]
     },
     "execution_count": 98,
     "metadata": {},
     "output_type": "execute_result"
    }
   ],
   "source": [
    "# 24.5 Compute Longest Contiguous Subarray\n",
    "def longest_subarray_sum(A):\n",
    "    curr_sum = -float('inf')\n",
    "    max_sum = -float('inf')\n",
    "    for elem in A:\n",
    "        curr_sum = max(elem, curr_sum + elem)\n",
    "        max_sum = max(max_sum, curr_sum)\n",
    "    return max_sum\n",
    "\n",
    "longest_subarray_sum([-2, -3, 4, -1, -2, 1, 5, -3])"
   ]
  },
  {
   "cell_type": "code",
   "execution_count": 104,
   "metadata": {},
   "outputs": [
    {
     "name": "stdout",
     "output_type": "stream",
     "text": [
      "[9, 8, 7, 6, 5, 4, 3, 2, 1, 0]\n",
      "[5, 6, 7, 8, 9, 4, 3, 2, 1, 0]\n",
      "[5, 6, 7, 8, 9, 0, 1, 2, 3, 4]\n"
     ]
    },
    {
     "data": {
      "text/plain": [
       "[5, 6, 7, 8, 9, 0, 1, 2, 3, 4]"
      ]
     },
     "execution_count": 104,
     "metadata": {},
     "output_type": "execute_result"
    }
   ],
   "source": [
    "# 24.6 Rotate an Array\n",
    "#reverse full array, followed by reverse of each subarray\n",
    "def rotate_array(A, k):\n",
    "    def reverse_array(A, begin, end):\n",
    "        while begin < end:\n",
    "            A[begin], A[end] = A[end], A[begin]\n",
    "            begin, end = begin + 1, end - 1\n",
    "\n",
    "    reverse_array(A, 0, len(A)-1)\n",
    "    #print(A)\n",
    "    reverse_array(A, 0, k-1)\n",
    "    #print(A)\n",
    "    reverse_array(A, k, len(A)-1)\n",
    "    #print(A)\n",
    "    \n",
    "A = list(range(10))\n",
    "rotate_array(A, 5)\n",
    "A"
   ]
  },
  {
   "cell_type": "code",
   "execution_count": 123,
   "metadata": {},
   "outputs": [
    {
     "data": {
      "text/plain": [
       "[[0, 0, 0, 0, 0, 0, 0, 0],\n",
       " [0, 0, 1, 0, 1, 0, 1, 1],\n",
       " [0, 0, 1, 0, 1, 0, 1, 1],\n",
       " [0, 0, 0, 0, 0, 0, 0, 0],\n",
       " [0, 0, 0, 0, 0, 0, 0, 0],\n",
       " [0, 0, 1, 0, 1, 0, 1, 1],\n",
       " [0, 0, 0, 0, 0, 0, 0, 0],\n",
       " [0, 0, 1, 0, 1, 0, 1, 1]]"
      ]
     },
     "execution_count": 123,
     "metadata": {},
     "output_type": "execute_result"
    }
   ],
   "source": [
    "# 24.7 Identify positions attacked by rooks\n",
    "\n",
    "board = [[1 for _ in range(8)] for _ in range(8)]\n",
    "board[0][1] = 0\n",
    "board[3][5] = 0\n",
    "board[4][3] = 0\n",
    "board[6][0] = 0\n",
    "board[6][5] = 0\n",
    "\n",
    "#set the first row of each x and y axis to 0 if rook is present\n",
    "for y in range(len(board)):\n",
    "    for x in range(len(board[0])):\n",
    "        if board[y][x] == 0:\n",
    "            board[y][0] = 0\n",
    "            board[0][x] = 0\n",
    "\n",
    "#zero out using and, do in reverse order so indicating rows are changed last\n",
    "for y in range(len(board)-1, -1, -1):\n",
    "    for x in range(len(board[0])-1, -1, -1):\n",
    "        board[y][x] = board[y][0] & board[0][x]\n",
    "        \n",
    "board"
   ]
  }
 ],
 "metadata": {
  "kernelspec": {
   "display_name": "Python 3",
   "language": "python",
   "name": "python3"
  },
  "language_info": {
   "codemirror_mode": {
    "name": "ipython",
    "version": 3
   },
   "file_extension": ".py",
   "mimetype": "text/x-python",
   "name": "python",
   "nbconvert_exporter": "python",
   "pygments_lexer": "ipython3",
   "version": "3.7.1"
  },
  "varInspector": {
   "cols": {
    "lenName": 16,
    "lenType": 16,
    "lenVar": 40
   },
   "kernels_config": {
    "python": {
     "delete_cmd_postfix": "",
     "delete_cmd_prefix": "del ",
     "library": "var_list.py",
     "varRefreshCmd": "print(var_dic_list())"
    },
    "r": {
     "delete_cmd_postfix": ") ",
     "delete_cmd_prefix": "rm(",
     "library": "var_list.r",
     "varRefreshCmd": "cat(var_dic_list()) "
    }
   },
   "types_to_exclude": [
    "module",
    "function",
    "builtin_function_or_method",
    "instance",
    "_Feature"
   ],
   "window_display": true
  }
 },
 "nbformat": 4,
 "nbformat_minor": 2
}
