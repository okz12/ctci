{
 "cells": [
  {
   "cell_type": "markdown",
   "metadata": {},
   "source": [
    "### Stack"
   ]
  },
  {
   "cell_type": "code",
   "execution_count": 28,
   "metadata": {},
   "outputs": [],
   "source": [
    "#pop push peek isEmpty\n",
    "class Stack:\n",
    "    def __init__(self):\n",
    "        self.stacklist = []\n",
    "        \n",
    "    def pop(self):\n",
    "        if self.stacklist != []:\n",
    "            return self.stacklist.pop()\n",
    "        return None\n",
    "    \n",
    "    def push(self, item):\n",
    "        self.stacklist.append(item)\n",
    "        \n",
    "    def peek(self):\n",
    "        return self.stacklist[-1]\n",
    "    \n",
    "    def isEmpty(self):\n",
    "        return self.stacklist == []"
   ]
  },
  {
   "cell_type": "code",
   "execution_count": 29,
   "metadata": {},
   "outputs": [],
   "source": [
    "stk = Stack()\n",
    "assert(stk.isEmpty()) == True\n",
    "assert(stk.pop()) == None\n",
    "stk.push(3)\n",
    "stk.push(4)\n",
    "assert(stk.peek()) == 4\n",
    "assert(stk.pop()) == 4\n",
    "assert(stk.pop()) == 3"
   ]
  },
  {
   "cell_type": "markdown",
   "metadata": {},
   "source": [
    "### Queue"
   ]
  },
  {
   "cell_type": "code",
   "execution_count": 52,
   "metadata": {},
   "outputs": [],
   "source": [
    "class Queue:\n",
    "    def __init__(self):\n",
    "        self.queuelist = []\n",
    "        \n",
    "    def pop(self):\n",
    "        if self.queuelist != []:\n",
    "            return self.queuelist.pop(0)\n",
    "        return None\n",
    "    \n",
    "    def push(self, item):\n",
    "        self.queuelist.append(item)\n",
    "        \n",
    "    def peek(self):\n",
    "        return self.queuelist[0]\n",
    "    \n",
    "    def isEmpty(self):\n",
    "        return self.queuelist == []"
   ]
  },
  {
   "cell_type": "code",
   "execution_count": 10,
   "metadata": {},
   "outputs": [],
   "source": [
    "q = Queue()\n",
    "assert(q.isEmpty()) == True\n",
    "assert(q.pop()) == None\n",
    "q.push(3)\n",
    "q.push(4)\n",
    "assert(q.peek()) == 3\n",
    "assert(q.pop()) == 3\n",
    "assert(q.pop()) == 4"
   ]
  },
  {
   "cell_type": "markdown",
   "metadata": {},
   "source": [
    "### Q1. FixedMultiStack"
   ]
  },
  {
   "cell_type": "code",
   "execution_count": 11,
   "metadata": {},
   "outputs": [],
   "source": [
    "#TODO"
   ]
  },
  {
   "cell_type": "markdown",
   "metadata": {},
   "source": [
    "### Q2. Min Stack"
   ]
  },
  {
   "cell_type": "code",
   "execution_count": 16,
   "metadata": {},
   "outputs": [],
   "source": [
    "#pop push peek isEmpty\n",
    "class StackMin:\n",
    "    def __init__(self):\n",
    "        self.stacklist = []\n",
    "        self.min_list = []\n",
    "        \n",
    "    def pop(self):\n",
    "        if self.stacklist != []:\n",
    "            self.min_list.pop()\n",
    "            return self.stacklist.pop()\n",
    "        return None\n",
    "    \n",
    "    def push(self, item):\n",
    "        self.stacklist.append(item)\n",
    "        if self.min_list == []:\n",
    "            self.min_list.append(item)\n",
    "        else:\n",
    "            self.min_list.append(min(item, self.min_list[-1]))\n",
    "        \n",
    "    def peek(self):\n",
    "        return self.stacklist[-1]\n",
    "    \n",
    "    def isEmpty(self):\n",
    "        return self.stacklist == []\n",
    "    \n",
    "    def stackmin(self):\n",
    "        return self.min_list[-1]"
   ]
  },
  {
   "cell_type": "code",
   "execution_count": 19,
   "metadata": {},
   "outputs": [],
   "source": [
    "stk = StackMin()\n",
    "stk.push(3)\n",
    "stk.push(4)\n",
    "stk.push(1)\n",
    "stk.push(6)\n",
    "stk.push(2)\n",
    "assert(stk.stackmin()) == 1\n",
    "stk.pop()\n",
    "stk.pop()\n",
    "stk.pop()\n",
    "assert(stk.stackmin()) == 3"
   ]
  },
  {
   "cell_type": "markdown",
   "metadata": {},
   "source": [
    "### Q3 Stack of Plates"
   ]
  },
  {
   "cell_type": "code",
   "execution_count": 42,
   "metadata": {},
   "outputs": [],
   "source": [
    "class SetOfStacks:\n",
    "    def __init__(self):\n",
    "        self.stack_list = []\n",
    "        \n",
    "    def push(self, item):\n",
    "        if self.stack_list == [] or len(self.stack_list[-1].stacklist)>3:\n",
    "            new_stack = Stack()\n",
    "            new_stack.push(item)\n",
    "            self.stack_list.append(new_stack)\n",
    "        else:\n",
    "            self.stack_list[-1].push(item)\n",
    "            \n",
    "    def pop(self):\n",
    "        if self.stack_list != []:\n",
    "            r = self.stack_list[-1].pop()\n",
    "            if self.stack_list[-1].stacklist == []:\n",
    "                self.stack_list.pop()\n",
    "            return r\n",
    "        else:\n",
    "            return None\n",
    "        \n",
    "    def peek(self, item):\n",
    "        if self.stack_list != []:\n",
    "            return self.stack_list[-1].peek()\n",
    "        else:\n",
    "            return None\n",
    "        \n",
    "    def print_(self):\n",
    "        res = [s.stacklist for s in self.stack_list]\n",
    "        print(res)"
   ]
  },
  {
   "cell_type": "code",
   "execution_count": 45,
   "metadata": {},
   "outputs": [
    {
     "name": "stdout",
     "output_type": "stream",
     "text": [
      "[[0, 1, 2, 3], [4, 5, 6, 7], [8, 9, 10, 11], [12]]\n",
      "[[0, 1, 2, 3], [4, 5, 6, 7], [8, 9, 10, 11]]\n",
      "[[0, 1, 2, 3], [4, 5, 6, 7]]\n"
     ]
    }
   ],
   "source": [
    "a = SetOfStacks()\n",
    "for x in range(13):\n",
    "    a.push(x)\n",
    "a.print_()\n",
    "a.pop()\n",
    "a.print_()\n",
    "for _ in range(4):\n",
    "    a.pop()\n",
    "a.print_()"
   ]
  },
  {
   "cell_type": "markdown",
   "metadata": {},
   "source": [
    "### Q4 Queue via Stacks"
   ]
  },
  {
   "cell_type": "code",
   "execution_count": 56,
   "metadata": {},
   "outputs": [],
   "source": [
    "class QueueStack:\n",
    "    \n",
    "    def __init__(self):\n",
    "        self.push_stack = Stack()\n",
    "        self.pop_stack = Stack()\n",
    "        \n",
    "    def push(self, item):\n",
    "        self.push_stack.push(item)\n",
    "        \n",
    "    def pop(self):\n",
    "        while(not self.push_stack.isEmpty()):\n",
    "            self.pop_stack.push(self.push_stack.pop())\n",
    "        r_val = self.pop_stack.pop()\n",
    "        while(not self.pop_stack.isEmpty()):\n",
    "            self.push_stack.push(self.pop_stack.pop())\n",
    "        return r_val\n",
    "            \n",
    "    def peek(self):\n",
    "        while(not self.push_stack.isEmpty()):\n",
    "            self.pop_stack.push(self.push_stack.pop())\n",
    "        r_val = self.pop_stack.peek()\n",
    "        while(not self.pop_stack.isEmpty()):\n",
    "            self.push_stack.push(self.pop_stack.pop())\n",
    "        return r_val"
   ]
  },
  {
   "cell_type": "code",
   "execution_count": 59,
   "metadata": {},
   "outputs": [],
   "source": [
    "qstk = QueueStack()\n",
    "q = Queue()\n",
    "\n",
    "qstk.push(0)\n",
    "qstk.push(1)\n",
    "qstk.push(2)\n",
    "q.push(0)\n",
    "q.push(1)\n",
    "q.push(2)\n",
    "\n",
    "assert(qstk.pop() == q.pop())\n",
    "assert(qstk.peek() == q.peek())\n",
    "assert(qstk.pop() == q.pop())"
   ]
  },
  {
   "cell_type": "markdown",
   "metadata": {},
   "source": [
    "### Q5 Sort Stack"
   ]
  },
  {
   "cell_type": "code",
   "execution_count": 65,
   "metadata": {},
   "outputs": [],
   "source": [
    "#TODO"
   ]
  },
  {
   "cell_type": "markdown",
   "metadata": {},
   "source": [
    "### Q6 Animal Shelter"
   ]
  },
  {
   "cell_type": "code",
   "execution_count": 62,
   "metadata": {},
   "outputs": [],
   "source": [
    "class AnimalShelter:\n",
    "    \n",
    "    def __init__(self):\n",
    "        self.dog_queue = Queue()\n",
    "        self.cat_queue = Queue()\n",
    "        self.a_count = 0\n",
    "        \n",
    "    def enqueue(self, item, animal):\n",
    "        if animal == 'cat':\n",
    "            self.cat_queue.push((item, self.a_count))\n",
    "        if animal == 'dog':\n",
    "            self.dog_queue.push((item, self.a_count))\n",
    "        self.a_count += 1\n",
    "            \n",
    "            \n",
    "    def dequeueCat(self):\n",
    "        return self.cat_queue.pop()[0]\n",
    "    \n",
    "    def dequeueDog(self):\n",
    "        return self.dog_queue.pop()[0]\n",
    "        \n",
    "    def dequeueAny(self):\n",
    "        if (self.dog_queue.peek()[1] < self.cat_queue.peek()[1]):\n",
    "            return self.dog_queue.pop()[0]\n",
    "        else:\n",
    "            return self.cat_queue.pop()[0]"
   ]
  },
  {
   "cell_type": "code",
   "execution_count": 64,
   "metadata": {},
   "outputs": [],
   "source": [
    "shelter = AnimalShelter()\n",
    "shelter.enqueue('fat', 'cat')\n",
    "shelter.enqueue('lazy', 'dog')\n",
    "shelter.enqueue('small', 'cat')\n",
    "shelter.enqueue('big', 'dog')\n",
    "shelter.enqueue('snoop', 'dog')\n",
    "assert(shelter.dequeueCat() == 'fat')\n",
    "assert(shelter.dequeueAny() == 'lazy')\n",
    "assert(shelter.dequeueDog() == 'big')"
   ]
  }
 ],
 "metadata": {
  "kernelspec": {
   "display_name": "Python 3",
   "language": "python",
   "name": "python3"
  },
  "language_info": {
   "codemirror_mode": {
    "name": "ipython",
    "version": 3
   },
   "file_extension": ".py",
   "mimetype": "text/x-python",
   "name": "python",
   "nbconvert_exporter": "python",
   "pygments_lexer": "ipython3",
   "version": "3.6.5"
  },
  "varInspector": {
   "cols": {
    "lenName": 16,
    "lenType": 16,
    "lenVar": 40
   },
   "kernels_config": {
    "python": {
     "delete_cmd_postfix": "",
     "delete_cmd_prefix": "del ",
     "library": "var_list.py",
     "varRefreshCmd": "print(var_dic_list())"
    },
    "r": {
     "delete_cmd_postfix": ") ",
     "delete_cmd_prefix": "rm(",
     "library": "var_list.r",
     "varRefreshCmd": "cat(var_dic_list()) "
    }
   },
   "types_to_exclude": [
    "module",
    "function",
    "builtin_function_or_method",
    "instance",
    "_Feature"
   ],
   "window_display": true
  }
 },
 "nbformat": 4,
 "nbformat_minor": 2
}
