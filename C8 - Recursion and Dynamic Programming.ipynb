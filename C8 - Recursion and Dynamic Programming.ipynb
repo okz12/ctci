{
 "cells": [
  {
   "cell_type": "markdown",
   "metadata": {},
   "source": [
    "# Notes\n",
    "\n",
    "### Recursion\n",
    "\n",
    "* Bottom-up Approach: Solve for a simple problem and then harder problems\n",
    "\n",
    "* Top-down Approach: Divide problem for case N into subproblems\n",
    "\n",
    "* Half-and-half: Divide data-set in half (e.g. mergesort, as we divide, sort and merge sorted halves)\n",
    "\n",
    "### Recursive vs Iterative\n",
    "\n",
    "* All recursive algorithms can be iterative, but code can become more complex\n",
    "\n",
    "* Each recursive call adds a new layer to stack, making space complexity O(n) where n = depth\n",
    "\n",
    "### Dynamic Programming and Memoization\n",
    "\n",
    "* Finding overlapping subproblems and avoiding recalculation\n",
    "\n",
    "* DP is for bottom-up, Memoization is for top-down but DP term can be used for both"
   ]
  },
  {
   "cell_type": "code",
   "execution_count": 29,
   "metadata": {},
   "outputs": [],
   "source": [
    "def fib(x):\n",
    "    if(x<2): return x\n",
    "    else: return fib(x-1) + fib(x-2)\n",
    "    \n",
    "#top-down, break into smaller pieces and keep results\n",
    "def fib_memo(x, memo):#memo is passed by reference and filled\n",
    "    if(x<2): return x\n",
    "    if(memo[x] == 0):\n",
    "        memo[x] = fib_memo(x-1, memo) + fib_memo(x-2, memo)\n",
    "    return memo[x]\n",
    "\n",
    "#bottom-up, solve smaller problem and join\n",
    "def fib_dp(x):\n",
    "    if x<2: return x\n",
    "    \n",
    "    memo = [0 for _ in range(x)]\n",
    "    memo[1] = 1\n",
    "    for i in range(2,x):\n",
    "        memo[i] = memo[i-1] + memo[i-2]\n",
    "        \n",
    "    return memo[x-1] + memo[x-2]\n",
    "\n",
    "n = 10\n",
    "\n",
    "assert(fib(10) == 55)\n",
    "\n",
    "memo = [0 for _ in range(n+1)]\n",
    "assert(fib_memo(10, memo) == 55)\n",
    "\n",
    "assert(fib_dp(10) == 55)"
   ]
  },
  {
   "cell_type": "markdown",
   "metadata": {},
   "source": [
    "### Q1 Triple Step"
   ]
  },
  {
   "cell_type": "code",
   "execution_count": 40,
   "metadata": {},
   "outputs": [],
   "source": [
    "#no dp\n",
    "def ts(x):\n",
    "    if (x==0): return 1\n",
    "    if (x<0): return 0\n",
    "    \n",
    "    return ts(x-1) + ts(x-2) + ts(x-3)\n",
    "\n",
    "#recursive\n",
    "def ts_memo(x, memo):\n",
    "    if (x==0): return 1\n",
    "    if (x<0): return 0\n",
    "    \n",
    "    if (memo[x] == 0):\n",
    "        memo[x] = ts_memo(x-1, memo) + ts_memo(x-2, memo) + ts_memo(x-3, memo)\n",
    "    \n",
    "    return memo[x]\n",
    "\n",
    "#iterative\n",
    "def ts_fib(x):\n",
    "    if (x==0): return 1\n",
    "    if (x<0): return 0\n",
    "    \n",
    "    memo = [0 for _ in range(x)]\n",
    "    memo[0] = 1\n",
    "    memo[1] = memo[0]\n",
    "    memo[2] = memo[0] + memo[1]\n",
    "    for i in range(3,x):\n",
    "        memo[i] = memo[i-1] + memo[i-2] + memo[i-3]\n",
    "        \n",
    "    return memo[x-1] + memo[x-2] + memo[x-3]\n",
    "n = 16\n",
    "assert(ts(n) == 10609)\n",
    "assert(ts_memo(n, [0 for _ in range(n+1)]) == 10609)\n",
    "assert(ts_fib(n) == 10609)"
   ]
  },
  {
   "cell_type": "markdown",
   "metadata": {},
   "source": [
    "### Q2 Robot in a Grid\n",
    "\n",
    "* Attempt -> Left\n",
    "* If false : Attempt -> Down\n",
    "* If false : Mark gridpoint as invalid and backtrack"
   ]
  },
  {
   "cell_type": "markdown",
   "metadata": {},
   "source": [
    "### Q3 Magic Index"
   ]
  },
  {
   "cell_type": "code",
   "execution_count": 46,
   "metadata": {},
   "outputs": [],
   "source": [
    "def magicBinary(array):\n",
    "    start = 0\n",
    "    end = len(array) - 1\n",
    "    mid = int((start+end)/2)\n",
    "    while(array[mid] != mid and start != end):\n",
    "        #print(array[mid])\n",
    "        if array[mid] == mid:\n",
    "            return mid\n",
    "        if array[mid] < mid:\n",
    "            start = mid+1\n",
    "        if array[mid] > mid:\n",
    "            end = mid - 1\n",
    "            \n",
    "        mid = int((start+end)/2)\n",
    "    if array[mid] == mid:\n",
    "        return mid\n",
    "    else: return False\n",
    "\n",
    "assert(magicBinary([-1, 0, 1, 2, 3, 4, 6, 8, 9, 10]) == 6)"
   ]
  },
  {
   "cell_type": "markdown",
   "metadata": {},
   "source": [
    "### Q4 Subsets of a Set"
   ]
  },
  {
   "cell_type": "code",
   "execution_count": 50,
   "metadata": {},
   "outputs": [],
   "source": [
    "#TODO"
   ]
  },
  {
   "cell_type": "markdown",
   "metadata": {},
   "source": [
    "### Q5 Recursive Multiply"
   ]
  },
  {
   "cell_type": "code",
   "execution_count": 59,
   "metadata": {},
   "outputs": [
    {
     "data": {
      "text/plain": [
       "405"
      ]
     },
     "execution_count": 59,
     "metadata": {},
     "output_type": "execute_result"
    }
   ],
   "source": [
    "def minProduct(a, b):\n",
    "    bigger, smaller = (a, b) if a>b else (b, a)\n",
    "    return minProductHelper(smaller, bigger)\n",
    "    \n",
    "def minProductHelper(smaller, bigger):\n",
    "    if smaller == 0: return 0\n",
    "    if smaller == 1: return bigger\n",
    "\n",
    "    halfProd = minProductHelper(smaller >> 1, bigger)\n",
    "    \n",
    "    if (smaller%2 == 0):\n",
    "        return halfProd + halfProd #if factor of 2, return\n",
    "    else:\n",
    "        return halfProd + halfProd + bigger#otherwise return 2-factor term + non-2-divisble term\n",
    "    \n",
    "minProduct(45, 9)"
   ]
  },
  {
   "cell_type": "code",
   "execution_count": null,
   "metadata": {},
   "outputs": [],
   "source": []
  },
  {
   "cell_type": "markdown",
   "metadata": {},
   "source": [
    "### Q11 Coins"
   ]
  },
  {
   "cell_type": "code",
   "execution_count": 65,
   "metadata": {},
   "outputs": [
    {
     "data": {
      "text/plain": [
       "916"
      ]
     },
     "execution_count": 65,
     "metadata": {},
     "output_type": "execute_result"
    }
   ],
   "source": [
    "def coin_memo(x, memo):\n",
    "    if (x==0): return 1\n",
    "    if (x<0): return 0\n",
    "    \n",
    "    if (memo[x] == 0):\n",
    "        memo[x] = coin_memo(x-1, memo) + coin_memo(x-5, memo) + coin_memo(x-10, memo) + coin_memo(x-25, memo)\n",
    "    \n",
    "    return memo[x]\n",
    "\n",
    "coin_memo(25, [0 for _ in range(25+1)])"
   ]
  }
 ],
 "metadata": {
  "kernelspec": {
   "display_name": "Python 3",
   "language": "python",
   "name": "python3"
  },
  "language_info": {
   "codemirror_mode": {
    "name": "ipython",
    "version": 3
   },
   "file_extension": ".py",
   "mimetype": "text/x-python",
   "name": "python",
   "nbconvert_exporter": "python",
   "pygments_lexer": "ipython3",
   "version": "3.6.5"
  },
  "varInspector": {
   "cols": {
    "lenName": 16,
    "lenType": 16,
    "lenVar": 40
   },
   "kernels_config": {
    "python": {
     "delete_cmd_postfix": "",
     "delete_cmd_prefix": "del ",
     "library": "var_list.py",
     "varRefreshCmd": "print(var_dic_list())"
    },
    "r": {
     "delete_cmd_postfix": ") ",
     "delete_cmd_prefix": "rm(",
     "library": "var_list.r",
     "varRefreshCmd": "cat(var_dic_list()) "
    }
   },
   "types_to_exclude": [
    "module",
    "function",
    "builtin_function_or_method",
    "instance",
    "_Feature"
   ],
   "window_display": true
  }
 },
 "nbformat": 4,
 "nbformat_minor": 2
}
